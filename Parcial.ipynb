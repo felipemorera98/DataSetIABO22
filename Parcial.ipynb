{
  "nbformat": 4,
  "nbformat_minor": 0,
  "metadata": {
    "colab": {
      "name": "Parcial.ipynb",
      "provenance": [],
      "authorship_tag": "ABX9TyO4j+DJz1zRfvp7XjnLw7Vp",
      "include_colab_link": true
    },
    "kernelspec": {
      "name": "python3",
      "display_name": "Python 3"
    },
    "language_info": {
      "name": "python"
    }
  },
  "cells": [
    {
      "cell_type": "markdown",
      "metadata": {
        "id": "view-in-github",
        "colab_type": "text"
      },
      "source": [
        "<a href=\"https://colab.research.google.com/github/felipemorera98/DataSetIABO22/blob/main/Parcial.ipynb\" target=\"_parent\"><img src=\"https://colab.research.google.com/assets/colab-badge.svg\" alt=\"Open In Colab\"/></a>"
      ]
    },
    {
      "cell_type": "code",
      "execution_count": 125,
      "metadata": {
        "id": "LIUeEuqBuYgh"
      },
      "outputs": [],
      "source": [
        "import numpy as np\n",
        "from sklearn.datasets import load_iris\n",
        "from sklearn.model_selection import train_test_split\n",
        "from sklearn import svm\n",
        "import matplotlib.pyplot as plt"
      ]
    },
    {
      "cell_type": "code",
      "source": [
        "from numpy.ma.core import size\n",
        "iris = load_iris()\n",
        "X= iris.data[:,1:3]\n",
        "y= iris.target\n",
        "#print(X)"
      ],
      "metadata": {
        "id": "KWF2LCQ3udAJ"
      },
      "execution_count": 126,
      "outputs": []
    },
    {
      "cell_type": "code",
      "source": [
        "clasificador=svm.LinearSVC(random_state=5,C=100)\n",
        "clasificador.fit(X, y)"
      ],
      "metadata": {
        "id": "4DWyoJIUuedA",
        "colab": {
          "base_uri": "https://localhost:8080/",
          "height": 0
        },
        "outputId": "fae1f884-7900-4b3d-be8d-aef7223a0caf"
      },
      "execution_count": 133,
      "outputs": [
        {
          "output_type": "stream",
          "name": "stderr",
          "text": [
            "/usr/local/lib/python3.7/dist-packages/sklearn/svm/_base.py:1208: ConvergenceWarning: Liblinear failed to converge, increase the number of iterations.\n",
            "  ConvergenceWarning,\n"
          ]
        },
        {
          "output_type": "execute_result",
          "data": {
            "text/plain": [
              "LinearSVC(C=100, random_state=5)"
            ]
          },
          "metadata": {},
          "execution_count": 133
        }
      ]
    },
    {
      "cell_type": "code",
      "source": [
        "testSet = [[3.3,5.7]] # Datos de prueba\n",
        "clasificacion=clasificador.predict(testSet)\n",
        "if clasificacion == 0:\n",
        "    print(\"setosa\")\n",
        "elif clasificacion == 1:\n",
        "    print(\"Versicolor\")\n",
        "else:\n",
        "    print(\"Virginica\")"
      ],
      "metadata": {
        "id": "U-Bil6ovugID",
        "colab": {
          "base_uri": "https://localhost:8080/",
          "height": 0
        },
        "outputId": "8f8f24e8-b5e0-4549-8bf6-9f6321e67550"
      },
      "execution_count": 128,
      "outputs": [
        {
          "output_type": "stream",
          "name": "stdout",
          "text": [
            "Virginica\n"
          ]
        }
      ]
    },
    {
      "cell_type": "code",
      "source": [
        "clasificador.coef_"
      ],
      "metadata": {
        "id": "1gPii-E5uheq",
        "colab": {
          "base_uri": "https://localhost:8080/",
          "height": 0
        },
        "outputId": "13c4ada7-c354-45ec-ee5a-a3c6b233f2d1"
      },
      "execution_count": 129,
      "outputs": [
        {
          "output_type": "execute_result",
          "data": {
            "text/plain": [
              "array([[ 0.93465669, -1.27895487],\n",
              "       [-1.19527752,  0.22147406],\n",
              "       [-0.89886861,  2.69288242]])"
            ]
          },
          "metadata": {},
          "execution_count": 129
        }
      ]
    },
    {
      "cell_type": "code",
      "source": [
        "clasificador.intercept_"
      ],
      "metadata": {
        "colab": {
          "base_uri": "https://localhost:8080/",
          "height": 0
        },
        "id": "7GAuKoPz7eEo",
        "outputId": "50c862fb-3a6d-4a20-ea0e-68336ab4b849"
      },
      "execution_count": 135,
      "outputs": [
        {
          "output_type": "execute_result",
          "data": {
            "text/plain": [
              "array([  0.50505926,   2.93415196, -10.26750782])"
            ]
          },
          "metadata": {},
          "execution_count": 135
        }
      ]
    },
    {
      "cell_type": "code",
      "source": [
        "plt.scatter(X[:, 0], X[:, 1], c=y, s=20, cmap=plt.cm.Paired)\n",
        "ax = plt.gca()\n",
        "xlim = ax.get_xlim()\n",
        "ylim = ax.get_ylim()\n",
        "xx = np.linspace(xlim[0], xlim[1], 50)\n",
        "yy = np.linspace(ylim[0], ylim[1], 50)\n",
        "YY, XX = np.meshgrid(yy, xx)\n",
        "xy = np.vstack([XX.ravel(), YY.ravel()]).T\n",
        "Z = clasificador.decision_function(xy)\n",
        "Z1=Z[:,0].reshape(XX.shape)\n",
        "Z2=Z[:,1].reshape(XX.shape)\n",
        "Z3=Z[:,2].reshape(XX.shape)\n",
        "ax.contour(XX, YY, Z1, colors='r',levels=[-1,0,1], alpha=1,linestyles=['--', '-', '--'])\n",
        "ax.contour(XX, YY, Z2, colors='b',levels=[-1,0,1], alpha=1,linestyles=['--', '-', '--'])\n",
        "ax.contour(XX, YY, Z3, colors='k',levels=[-1,0,1], alpha=1,linestyles=['--', '-', '--'])"
      ],
      "metadata": {
        "id": "79aVw0HuuqUM",
        "colab": {
          "base_uri": "https://localhost:8080/",
          "height": 282
        },
        "outputId": "481bc354-39f8-4356-c6e5-8a2fc573d172"
      },
      "execution_count": 130,
      "outputs": [
        {
          "output_type": "execute_result",
          "data": {
            "text/plain": [
              "<matplotlib.contour.QuadContourSet at 0x7f6155d91ed0>"
            ]
          },
          "metadata": {},
          "execution_count": 130
        },
        {
          "output_type": "display_data",
          "data": {
            "image/png": "[encoded data removed]",
            "text/plain": [
              "<Figure size 432x288 with 1 Axes>"
            ]
          },
          "metadata": {
            "needs_background": "light"
          }
        }
      ]
    },
    {
      "cell_type": "code",
      "source": [
        "# Funciones para la mediada del desempeño de los clasificadores\n",
        "from sklearn.metrics import confusion_matrix\n",
        "from sklearn.metrics import accuracy_score\n",
        "\n",
        "resultados=clasificador.predict(X)\n",
        "print(confusion_matrix(y,resultados))\n",
        "print(accuracy_score(y,resultados))"
      ],
      "metadata": {
        "id": "lXU7n72gusKm",
        "colab": {
          "base_uri": "https://localhost:8080/",
          "height": 0
        },
        "outputId": "764efd4d-7c26-4d90-ef79-00846bc2fc6b"
      },
      "execution_count": 131,
      "outputs": [
        {
          "output_type": "stream",
          "name": "stdout",
          "text": [
            "[[50  0  0]\n",
            " [ 0 49  1]\n",
            " [ 0  9 41]]\n",
            "0.9333333333333333\n"
          ]
        }
      ]
    },
    {
      "cell_type": "code",
      "source": [
        "clasificador.coef_"
      ],
      "metadata": {
        "colab": {
          "base_uri": "https://localhost:8080/",
          "height": 0
        },
        "id": "2gFHiP217Ld6",
        "outputId": "27541552-7a17-4295-8c8b-8273f50869c0"
      },
      "execution_count": 134,
      "outputs": [
        {
          "output_type": "execute_result",
          "data": {
            "text/plain": [
              "array([[ 0.93402234, -1.27814159],\n",
              "       [-1.0544791 ,  0.27296174],\n",
              "       [-0.62215275,  2.79412069]])"
            ]
          },
          "metadata": {},
          "execution_count": 134
        }
      ]
    },
    {
      "cell_type": "code",
      "source": [
        "clasificador.intercept_"
      ],
      "metadata": {
        "colab": {
          "base_uri": "https://localhost:8080/",
          "height": 0
        },
        "id": "CmLHx4mh7i0a",
        "outputId": "88c69256-923a-42e1-d428-9d4332ec65c7"
      },
      "execution_count": 136,
      "outputs": [
        {
          "output_type": "execute_result",
          "data": {
            "text/plain": [
              "array([  0.50505926,   2.93415196, -10.26750782])"
            ]
          },
          "metadata": {},
          "execution_count": 136
        }
      ]
    },
    {
      "cell_type": "code",
      "source": [
        "x1=1.0\n",
        "x2=0.5\n",
        "s1=np.sign(0.5050+0.934022*x1-1.2781*x2)\n",
        "s2=np.sign(2.93415196-1.0544791*x1+0.27296174*x2)\n",
        "s3=np.sign(-10.26750782-0.62215275*x1+2.79412069*x2)\n",
        "print([s1,s2,s3])"
      ],
      "metadata": {
        "id": "cnKyU5DPuucS",
        "colab": {
          "base_uri": "https://localhost:8080/",
          "height": 0
        },
        "outputId": "a5a09561-c02c-46a8-dc74-56ab81cdf279"
      },
      "execution_count": 137,
      "outputs": [
        {
          "output_type": "stream",
          "name": "stdout",
          "text": [
            "[1.0, 1.0, -1.0]\n"
          ]
        }
      ]
    }
  ]
}