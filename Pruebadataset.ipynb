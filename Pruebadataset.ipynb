{
  "nbformat": 4,
  "nbformat_minor": 0,
  "metadata": {
    "colab": {
      "name": "Pruebadataset.ipynb",
      "provenance": [],
      "authorship_tag": "ABX9TyO3jfvPShj/iVtYmRg20U6d",
      "include_colab_link": true
    },
    "kernelspec": {
      "name": "python3",
      "display_name": "Python 3"
    },
    "language_info": {
      "name": "python"
    }
  },
  "cells": [
    {
      "cell_type": "markdown",
      "metadata": {
        "id": "view-in-github",
        "colab_type": "text"
      },
      "source": [
        "<a href=\"https://colab.research.google.com/github/felipemorera98/DataSetIABO22/blob/main/Pruebadataset.ipynb\" target=\"_parent\"><img src=\"https://colab.research.google.com/assets/colab-badge.svg\" alt=\"Open In Colab\"/></a>"
      ]
    },
    {
      "cell_type": "code",
      "execution_count": null,
      "metadata": {
        "id": "sKyYF9saP4tr",
        "colab": {
          "base_uri": "https://localhost:8080/"
        },
        "outputId": "ab378482-110b-4b7e-8766-c4ad1e58ad4e"
      },
      "outputs": [
        {
          "output_type": "stream",
          "name": "stdout",
          "text": [
            "Requirement already satisfied: openpyxl in /usr/local/lib/python3.7/dist-packages (3.0.9)\n",
            "Requirement already satisfied: et-xmlfile in /usr/local/lib/python3.7/dist-packages (from openpyxl) (1.1.0)\n"
          ]
        }
      ],
      "source": [
        "pip install openpyxl"
      ]
    },
    {
      "cell_type": "code",
      "source": [
        "import openpyxl"
      ],
      "metadata": {
        "id": "9bBLQdVwQDIG"
      },
      "execution_count": null,
      "outputs": []
    },
    {
      "cell_type": "code",
      "source": [
        "!git clone https://github.com/felipemorera98/DataSetIABO22.git"
      ],
      "metadata": {
        "colab": {
          "base_uri": "https://localhost:8080/"
        },
        "id": "bNH5gFWEYQRr",
        "outputId": "84d67c1c-8bda-4918-c782-7f240a57af4a"
      },
      "execution_count": null,
      "outputs": [
        {
          "output_type": "stream",
          "name": "stdout",
          "text": [
            "fatal: destination path 'DataSetIABO22' already exists and is not an empty directory.\n"
          ]
        }
      ]
    },
    {
      "cell_type": "code",
      "source": [
        "import pandas as pd\n",
        "import numpy as np\n",
        "import statistics as st\n",
        "import matplotlib.pyplot as plt\n",
        "import xlrd\n",
        "wb=xlrd.open_workbook(\"/content/DataSetIABO22/estatico.xlsx\")\n",
        "wb1=xlrd.open_workbook(\"/content/DataSetIABO22/inclinadoIzquierda.xlsx\")\n",
        "wb2=xlrd.open_workbook(\"/content/DataSetIABO22/inclinadoDerecha.xlsx\")\n",
        "wb3=xlrd.open_workbook(\"/content/DataSetIABO22/inclinadoAdelante.xlsx\")\n",
        "wb4=xlrd.open_workbook(\"/content/DataSetIABO22/inclinadoAtras.xlsx\")\n",
        "\n",
        "sheet = wb.sheet_by_index(0)\n",
        "sheet1 = wb1.sheet_by_index(0)\n",
        "sheet2 = wb2.sheet_by_index(0)\n",
        "sheet3 = wb3.sheet_by_index(0)\n",
        "sheet4 = wb4.sheet_by_index(0)\n",
        "#sheet.cell_value(0, 0)\n",
        "ax=sheet.col_values(0)\n",
        "ay=sheet.col_values(1)\n",
        "az=sheet.col_values(2)\n",
        "gx=sheet.col_values(3)\n",
        "gy=sheet.col_values(4)\n",
        "gz=sheet.col_values(5)\n",
        "mx=sheet.col_values(6)\n",
        "my=sheet.col_values(7)\n",
        "mz=sheet.col_values(8)\n",
        "\n",
        "ax1=sheet1.col_values(0)\n",
        "ay1=sheet1.col_values(1)\n",
        "az1=sheet1.col_values(2)\n",
        "gx1=sheet1.col_values(3)\n",
        "gy1=sheet1.col_values(4)\n",
        "gz1=sheet1.col_values(5)\n",
        "mx1=sheet1.col_values(6)\n",
        "my1=sheet1.col_values(7)\n",
        "mz1=sheet1.col_values(8)\n",
        "\n",
        "ax2=sheet2.col_values(0)\n",
        "ay2=sheet2.col_values(1)\n",
        "az2=sheet2.col_values(2)\n",
        "gx2=sheet2.col_values(3)\n",
        "gy2=sheet2.col_values(4)\n",
        "gz2=sheet2.col_values(5)\n",
        "mx2=sheet2.col_values(6)\n",
        "my2=sheet2.col_values(7)\n",
        "mz2=sheet2.col_values(8)\n",
        "\n",
        "ax3=sheet3.col_values(0)\n",
        "ay3=sheet3.col_values(1)\n",
        "az3=sheet3.col_values(2)\n",
        "gx3=sheet3.col_values(3)\n",
        "gy3=sheet3.col_values(4)\n",
        "gz3=sheet3.col_values(5)\n",
        "mx3=sheet3.col_values(6)\n",
        "my3=sheet3.col_values(7)\n",
        "mz3=sheet3.col_values(8)\n",
        "\n",
        "ax4=sheet4.col_values(0)\n",
        "ay4=sheet4.col_values(1)\n",
        "az4=sheet4.col_values(2)\n",
        "gx4=sheet4.col_values(3)\n",
        "gy4=sheet4.col_values(4)\n",
        "gz4=sheet4.col_values(5)\n",
        "mx4=sheet4.col_values(6)\n",
        "my4=sheet4.col_values(7)\n",
        "mz4=sheet4.col_values(8)\n",
        "\n",
        "plt.subplot(331)\n",
        "plt.plot(ax1)\n",
        "plt.subplot(332)\n",
        "plt.plot(ay1)\n",
        "plt.subplot(333)\n",
        "plt.plot(az1)\n",
        "plt.subplot(334)\n",
        "plt.plot(gx1)\n",
        "plt.subplot(335)\n",
        "plt.plot(gy1)\n",
        "plt.subplot(336)\n",
        "plt.plot(gz1)\n",
        "plt.subplot(337)\n",
        "plt.plot(mx1)\n",
        "plt.subplot(338)\n",
        "plt.plot(my1)\n",
        "plt.subplot(339)\n",
        "plt.plot(mz1)\n"
      ],
      "metadata": {
        "colab": {
          "base_uri": "https://localhost:8080/",
          "height": 282
        },
        "id": "yty6Kg4pQGKO",
        "outputId": "08e65d7a-bea2-46ea-f5c1-53736261ff2a"
      },
      "execution_count": null,
      "outputs": [
        {
          "output_type": "execute_result",
          "data": {
            "text/plain": [
              "[<matplotlib.lines.Line2D at 0x7f90afa91950>]"
            ]
          },
          "metadata": {},
          "execution_count": 173
        },
        {
          "output_type": "display_data",
          "data": {
            "image/png": "[encoded data removed]",
            "text/plain": [
              "<Figure size 432x288 with 9 Axes>"
            ]
          },
          "metadata": {
            "needs_background": "light"
          }
        }
      ]
    },
    {
      "cell_type": "code",
      "source": [
        "N=10.0                      # Número de muestras\n",
        "nV=np.array(np.shape(ax1))   # Número de muestras de la señal\n",
        "segment = np.floor(nV/N)    # Número de segmetos de la señal\n",
        "print(\"Segmentos : \",segment)"
      ],
      "metadata": {
        "colab": {
          "base_uri": "https://localhost:8080/"
        },
        "id": "qyxoOToySL5K",
        "outputId": "d4ea73c1-31bc-4bb9-8668-b11c9d416c23"
      },
      "execution_count": null,
      "outputs": [
        {
          "output_type": "stream",
          "name": "stdout",
          "text": [
            "Segmentos :  [55.]\n"
          ]
        }
      ]
    },
    {
      "cell_type": "code",
      "source": [
        "prom_vent_ax=[]\n",
        "prom_vent_ay=[]\n",
        "prom_vent_az=[]\n",
        "prom_vent_gx=[]\n",
        "prom_vent_gy=[]\n",
        "prom_vent_gz=[]\n",
        "prom_vent_mx=[]\n",
        "prom_vent_my=[]\n",
        "prom_vent_mz=[]\n",
        "\n",
        "prom_vent_ax1=[]\n",
        "prom_vent_ay1=[]\n",
        "prom_vent_az1=[]\n",
        "prom_vent_gx1=[]\n",
        "prom_vent_gy1=[]\n",
        "prom_vent_gz1=[]\n",
        "prom_vent_mx1=[]\n",
        "prom_vent_my1=[]\n",
        "prom_vent_mz1=[]\n",
        "\n",
        "prom_vent_ax2=[]\n",
        "prom_vent_ay2=[]\n",
        "prom_vent_az2=[]\n",
        "prom_vent_gx2=[]\n",
        "prom_vent_gy2=[]\n",
        "prom_vent_gz2=[]\n",
        "prom_vent_mx2=[]\n",
        "prom_vent_my2=[]\n",
        "prom_vent_mz2=[]\n",
        "\n",
        "prom_vent_ax3=[]\n",
        "prom_vent_ay3=[]\n",
        "prom_vent_az3=[]\n",
        "prom_vent_gx3=[]\n",
        "prom_vent_gy3=[]\n",
        "prom_vent_gz3=[]\n",
        "prom_vent_mx3=[]\n",
        "prom_vent_my3=[]\n",
        "prom_vent_mz3=[]\n",
        "\n",
        "prom_vent_ax4=[]\n",
        "prom_vent_ay4=[]\n",
        "prom_vent_az4=[]\n",
        "prom_vent_gx4=[]\n",
        "prom_vent_gy4=[]\n",
        "prom_vent_gz4=[]\n",
        "prom_vent_mx4=[]\n",
        "prom_vent_my4=[]\n",
        "prom_vent_mz4=[]\n",
        "\n"
      ],
      "metadata": {
        "id": "k_RN5lgLSZM-"
      },
      "execution_count": null,
      "outputs": []
    },
    {
      "cell_type": "markdown",
      "source": [
        "prom_vent_ax.append(np.mean(np.power(ventana_ax,2)))\n",
        "  prom_vent_ay.append(np.mean(np.power(ventana_ay,2)))\n",
        "  prom_vent_az.append(np.mean(np.power(ventana_az,2)))\n",
        "  prom_vent_gx.append(np.mean(np.power(ventana_gx,2)))\n",
        "  prom_vent_gy.append(np.mean(np.power(ventana_gy,2)))\n",
        "  prom_vent_gz.append(np.mean(np.power(ventana_gz,2)))\n",
        "  #prom_vent_mx.append(np.var(power))\n",
        "  #prom_vent_my.append(np.var(ventana_my))\n",
        "  #prom_vent_mz.append(np.var(ventana_mz))\n",
        "\n",
        "  prom_vent_ax1.append(np.mean(np.power(ventana_ax1,2)))\n",
        "  prom_vent_ay1.append(np.mean(np.power(ventana_ay1,2)))\n",
        "  prom_vent_az1.append(np.mean(np.power(ventana_az1,2)))\n",
        "  prom_vent_gx1.append(np.mean(np.power(ventana_gx1,2)))\n",
        "  prom_vent_gy1.append(np.mean(np.power(ventana_gy1,2)))\n",
        "  prom_vent_gz1.append(np.mean(np.power(ventana_gz1,2)))\n",
        "  #prom_vent_mx1.append(np.var(ventana_mx1))\n",
        "  #prom_vent_my1.append(np.var(ventana_my1))\n",
        "  #prom_vent_mz1.append(np.var(ventana_mz1))\n",
        "\n",
        "  prom_vent_ax2.append(np.mean(np.power(ventana_ax2,2)))\n",
        "  prom_vent_ay2.append(np.mean(np.power(ventana_ay2,2)))\n",
        "  prom_vent_az2.append(np.mean(np.power(ventana_az2,2)))\n",
        "  prom_vent_gx2.append(np.mean(np.power(ventana_gx2,2)))\n",
        "  prom_vent_gy2.append(np.mean(np.power(ventana_gy2,2)))\n",
        "  prom_vent_gz2.append(np.mean(np.power(ventana_gz2,2)))\n",
        "  #prom_vent_mx2.append(np.var(ventana_mx2))\n",
        "  #prom_vent_my2.append(np.var(ventana_my2))\n",
        "  #prom_vent_mz2.append(np.var(ventana_mz2))\n",
        "  \n",
        "  prom_vent_ax3.append(np.mean(np.power(ventana_ax3,2)))\n",
        "  prom_vent_ay3.append(np.mean(np.power(ventana_ay3,2)))\n",
        "  prom_vent_az3.append(np.mean(np.power(ventana_az3,2)))\n",
        "  prom_vent_gx3.append(np.mean(np.power(ventana_gx3,2)))\n",
        "  prom_vent_gy3.append(np.mean(np.power(ventana_gy3,2)))\n",
        "  prom_vent_gz3.append(np.mean(np.power(ventana_gz3,2)))\n",
        "  #prom_vent_mx3.append(np.geometric_mean(ventana_mx3))\n",
        "  #prom_vent_my3.append(np.var(ventana_my3))\n",
        "  #prom_vent_mz3.append(np.var(ventana_mz3))\n",
        "\n",
        "  prom_vent_ax4.append(np.mean(np.power(ventana_ax4,2)))\n",
        "  prom_vent_ay4.append(np.mean(np.power(ventana_ay4,2)))\n",
        "  prom_vent_az4.append(np.mean(np.power(ventana_az4,2)))\n",
        "  prom_vent_gx4.append(np.mean(np.power(ventana_gx4,2)))\n",
        "  prom_vent_gy4.append(np.mean(np.power(ventana_gy4,2)))\n",
        "  prom_vent_gz4.append(np.mean(np.power(ventana_gz4,2)))\n",
        "  #prom_vent_mx4.append(np.var(ventana_mx4))\n",
        "  #prom_vent_my4.append(np.var(ventana_my4))\n",
        "  #prom_vent_mz4.append(np.var(ventana_mz4))\n",
        "  "
      ],
      "metadata": {
        "id": "tTXm3Vafj9g6"
      }
    },
    {
      "cell_type": "code",
      "source": [
        "for i in range (0,np.int(segment)):\n",
        "  \n",
        "  \n",
        "  ventana_ax=ax[int(i*N):int((i+1)*N)]\n",
        "  ventana_ay=ay[int(i*N):int((i+1)*N)]\n",
        "  ventana_az=az[int(i*N):int((i+1)*N)]\n",
        "  ventana_gx=gx[int(i*N):int((i+1)*N)]\n",
        "  ventana_gy=gy[int(i*N):int((i+1)*N)]\n",
        "  ventana_gz=gz[int(i*N):int((i+1)*N)]\n",
        "  #ventana_mx=mx[int(i*N):int((i+1)*N)]\n",
        "  #ventana_my=my[int(i*N):int((i+1)*N)]\n",
        "  #ventana_mz=mz[int(i*N):int((i+1)*N)]\n",
        "\n",
        "  ventana_ax1=ax1[int(i*N):int((i+1)*N)]\n",
        "  ventana_ay1=ay1[int(i*N):int((i+1)*N)]\n",
        "  ventana_az1=az1[int(i*N):int((i+1)*N)]\n",
        "  ventana_gx1=gx1[int(i*N):int((i+1)*N)]\n",
        "  ventana_gy1=gy1[int(i*N):int((i+1)*N)]\n",
        "  ventana_gz1=gz1[int(i*N):int((i+1)*N)]\n",
        "  #ventana_mx1=mx1[int(i*N):int((i+1)*N)]\n",
        "  #ventana_my1=my1[int(i*N):int((i+1)*N)]\n",
        "  #ventana_mz1=mz1[int(i*N):int((i+1)*N)]\n",
        "\n",
        "  ventana_ax2=ax2[int(i*N):int((i+1)*N)]\n",
        "  ventana_ay2=ay2[int(i*N):int((i+1)*N)]\n",
        "  ventana_az2=az2[int(i*N):int((i+1)*N)]\n",
        "  ventana_gx2=gx2[int(i*N):int((i+1)*N)]\n",
        "  ventana_gy2=gy2[int(i*N):int((i+1)*N)]\n",
        "  ventana_gz2=gz2[int(i*N):int((i+1)*N)]\n",
        "  #ventana_mx2=mx2[int(i*N):int((i+1)*N)]\n",
        "  #ventana_my2=my2[int(i*N):int((i+1)*N)]\n",
        "  #ventana_mz2=mz2[int(i*N):int((i+1)*N)]\n",
        "\n",
        "  ventana_ax3=ax3[int(i*N):int((i+1)*N)]\n",
        "  ventana_ay3=ay3[int(i*N):int((i+1)*N)]\n",
        "  ventana_az3=az3[int(i*N):int((i+1)*N)]\n",
        "  ventana_gx3=gx3[int(i*N):int((i+1)*N)]\n",
        "  ventana_gy3=gy3[int(i*N):int((i+1)*N)]\n",
        "  ventana_gz3=gz3[int(i*N):int((i+1)*N)]\n",
        "  #ventana_mx3=mx3[int(i*N):int((i+1)*N)]\n",
        "  #ventana_my3=my3[int(i*N):int((i+1)*N)]\n",
        "  #ventana_mz3=mz3[int(i*N):int((i+1)*N)]\n",
        "  \n",
        "  ventana_ax4=ax4[int(i*N):int((i+1)*N)]\n",
        "  ventana_ay4=ay4[int(i*N):int((i+1)*N)]\n",
        "  ventana_az4=az4[int(i*N):int((i+1)*N)]\n",
        "  ventana_gx4=gx4[int(i*N):int((i+1)*N)]\n",
        "  ventana_gy4=gy4[int(i*N):int((i+1)*N)]\n",
        "  ventana_gz4=gz4[int(i*N):int((i+1)*N)]\n",
        "  #ventana_mx4=mx4[int(i*N):int((i+1)*N)]\n",
        "  #ventana_my4=my4[int(i*N):int((i+1)*N)]\n",
        "  #ventana_mz4=mz4[int(i*N):int((i+1)*N)]\n",
        "\n",
        "  prom_vent_ax.append(np.mean(ventana_ax))\n",
        "  prom_vent_ay.append(np.mean(ventana_ay))\n",
        "  prom_vent_az.append(np.mean(ventana_az))\n",
        "  prom_vent_gx.append(np.mean(ventana_gx))\n",
        "  prom_vent_gy.append(np.mean(ventana_gx))\n",
        "  prom_vent_gz.append(np.mean(ventana_gz))\n",
        "  #prom_vent_mx.append(np.var(power))\n",
        "  #prom_vent_my.append(np.var(ventana_my))\n",
        "  #prom_vent_mz.append(np.var(ventana_mz))\n",
        "\n",
        "  prom_vent_ax1.append(np.mean(ventana_ax1))\n",
        "  prom_vent_ay1.append(np.mean(ventana_ay1))\n",
        "  prom_vent_az1.append(np.mean(ventana_az1))\n",
        "  prom_vent_gx1.append(np.mean(ventana_gx1))\n",
        "  prom_vent_gy1.append(np.mean(ventana_gy1))\n",
        "  prom_vent_gz1.append(np.mean(ventana_gz1))\n",
        "  #prom_vent_mx1.append(np.var(ventana_mx1))\n",
        "  #prom_vent_my1.append(np.var(ventana_my1))\n",
        "  #prom_vent_mz1.append(np.var(ventana_mz1))\n",
        "\n",
        "  prom_vent_ax2.append(np.mean(ventana_ax2))\n",
        "  prom_vent_ay2.append(np.mean(ventana_ay2))\n",
        "  prom_vent_az2.append(np.mean(ventana_az2))\n",
        "  prom_vent_gx2.append(np.mean(ventana_gx2))\n",
        "  prom_vent_gy2.append(np.mean(ventana_gy2))\n",
        "  prom_vent_gz2.append(np.mean(ventana_gz2))\n",
        "  #prom_vent_mx2.append(np.var(ventana_mx2))\n",
        "  #prom_vent_my2.append(np.var(ventana_my2))\n",
        "  #prom_vent_mz2.append(np.var(ventana_mz2))\n",
        "  \n",
        "  prom_vent_ax3.append(np.mean(ventana_ax3))\n",
        "  prom_vent_ay3.append(np.mean(ventana_ay3))\n",
        "  prom_vent_az3.append(np.mean(ventana_az3))\n",
        "  prom_vent_gx3.append(np.mean(ventana_gx3))\n",
        "  prom_vent_gy3.append(np.mean(ventana_gy3))\n",
        "  prom_vent_gz3.append(np.mean(ventana_gz3))\n",
        "  #prom_vent_mx3.append(np.geometric_mean(ventana_mx3))\n",
        "  #prom_vent_my3.append(np.var(ventana_my3))\n",
        "  #prom_vent_mz3.append(np.var(ventana_mz3))\n",
        "\n",
        "  prom_vent_ax4.append(np.mean(ventana_ax4))\n",
        "  prom_vent_ay4.append(np.mean(ventana_ay4))\n",
        "  prom_vent_az4.append(np.mean(ventana_az4))\n",
        "  prom_vent_gx4.append(np.mean(ventana_gx4))\n",
        "  prom_vent_gy4.append(np.mean(ventana_gy4))\n",
        "  prom_vent_gz4.append(np.mean(ventana_gz4))\n",
        "  #prom_vent_mx4.append(np.var(ventana_mx4))\n",
        "  #prom_vent_my4.append(np.var(ventana_my4))\n",
        "  #prom_vent_mz4.append(np.var(ventana_mz4))\n",
        "plt.subplot(231)\n",
        "plt.plot(prom_vent_ax4)\n",
        "plt.subplot(232)\n",
        "plt.plot(prom_vent_ay4)\n",
        "plt.subplot(233)\n",
        "plt.plot(prom_vent_az4)\n",
        "plt.subplot(234)\n",
        "plt.plot(prom_vent_gx4)\n",
        "plt.subplot(235)\n",
        "plt.plot(prom_vent_gy4)\n",
        "plt.subplot(236)\n",
        "plt.plot(prom_vent_gz4)\n",
        "#plt.subplot(237)\n",
        "#plt.plot(prom_vent_mx4)\n",
        "#plt.subplot(338)\n",
        "#plt.plot(prom_vent_my4)\n",
        "#plt.subplot(339)\n",
        "#plt.plot(prom_vent_mz4)\n",
        "print(prom_vent_ax)"
      ],
      "metadata": {
        "colab": {
          "base_uri": "https://localhost:8080/",
          "height": 372
        },
        "id": "bhxe76baXkoT",
        "outputId": "4e02f761-cd38-4f46-99cf-c8fb80f79088"
      },
      "execution_count": null,
      "outputs": [
        {
          "output_type": "stream",
          "name": "stderr",
          "text": [
            "/usr/local/lib/python3.7/dist-packages/numpy/core/fromnumeric.py:3373: RuntimeWarning: Mean of empty slice.\n",
            "  out=out, **kwargs)\n",
            "/usr/local/lib/python3.7/dist-packages/numpy/core/_methods.py:170: RuntimeWarning: invalid value encountered in double_scalars\n",
            "  ret = ret.dtype.type(ret / rcount)\n"
          ]
        },
        {
          "output_type": "stream",
          "name": "stdout",
          "text": [
            "[0.0078, 0.030499999999999992, 0.0436, 0.045399999999999996, 0.039900000000000005, 0.0251, 0.031, 0.0417, 0.038700000000000005, 0.0426, 0.0353, 0.0408, 0.032400000000000005, 0.03570000000000001, 0.038000000000000006, 0.03400000000000001, 0.0344, 0.028200000000000003, 0.030400000000000003, 0.0326, 0.0337, 0.0364, 0.0396, 0.035199999999999995, 0.0403, 0.0407, 0.040999999999999995, 0.016300000000000002, -0.0036, -0.006900000000000001, -0.0093, nan, nan, nan, nan, nan, nan, nan, nan, nan, nan, nan, nan, nan, nan, nan, nan, nan, nan, nan, nan, nan, nan, nan, nan]\n"
          ]
        },
        {
          "output_type": "display_data",
          "data": {
            "image/png": "[encoded data removed]",
            "text/plain": [
              "<Figure size 432x288 with 6 Axes>"
            ]
          },
          "metadata": {
            "needs_background": "light"
          }
        }
      ]
    },
    {
      "cell_type": "code",
      "source": [
        "N=np.size(prom_vent_ax4)\n",
        "print(N)\n",
        "clases=[]\n",
        "\n",
        "for n in range(N):\n",
        "  clases.append(0)\n",
        "print(N)\n",
        "for n in range(N,N*2):\n",
        "  clases.append(1)\n",
        "\n",
        "for n in range(N*2,N*3):\n",
        "  clases.append(2)\n",
        "\n",
        "for n in range(N*3,N*4):\n",
        "  clases.append(3)\n",
        "for n in range(N*4,N*5):\n",
        "  clases.append(4)\n",
        "clases=np.transpose(clases)"
      ],
      "metadata": {
        "colab": {
          "base_uri": "https://localhost:8080/"
        },
        "id": "UoavaOc2WZRj",
        "outputId": "bccfdda6-1d70-4746-e792-5f6bc9a7967f"
      },
      "execution_count": null,
      "outputs": [
        {
          "output_type": "stream",
          "name": "stdout",
          "text": [
            "55\n",
            "55\n"
          ]
        }
      ]
    },
    {
      "cell_type": "code",
      "source": [
        "caracteristica1=prom_vent_ax+prom_vent_ax1+prom_vent_ax2+prom_vent_ax3+prom_vent_ax4\n",
        "caracteristica2=prom_vent_ay+prom_vent_ay1+prom_vent_ay2+prom_vent_ay3+prom_vent_ay4\n",
        "caracteristica3=prom_vent_az+prom_vent_az1+prom_vent_az2+prom_vent_az3+prom_vent_az4\n",
        "caracteristica4=prom_vent_gx+prom_vent_gx1+prom_vent_gx2+prom_vent_gx3+prom_vent_gx4\n",
        "caracteristica5=prom_vent_gy+prom_vent_gy1+prom_vent_gy2+prom_vent_gy3+prom_vent_gy4\n",
        "caracteristica6=prom_vent_gz+prom_vent_gz1+prom_vent_gz2+prom_vent_gz3+prom_vent_gz4\n",
        "\n",
        "caracteristicasM1=[caracteristica1,caracteristica2]\n",
        "caracteristicasM2=[caracteristica3,caracteristica4]\n",
        "caracteristicasM3=[caracteristica5,caracteristica6]\n",
        "caracteristicasM1=np.array(np.transpose(caracteristicasM1))\n",
        "caracteristicasM2=np.array(np.transpose(caracteristicasM2))\n",
        "caracteristicasM3=np.array(np.transpose(caracteristicasM3))"
      ],
      "metadata": {
        "id": "3Q1whJmOWjwZ"
      },
      "execution_count": null,
      "outputs": []
    },
    {
      "cell_type": "code",
      "source": [
        "#plt.scatter(caracteristicasM1[0:N,0],caracteristicasM1[0:N,1],alpha=0.3,label='Estable',c='blue')\n",
        "plt.scatter(caracteristicasM1[N:N*2,0],caracteristicasM1[N:N*2,1],alpha=0.3,label='Inclinado Izquierda',c='red')\n",
        "plt.scatter(caracteristicasM1[N*2:N*3,0],caracteristicasM1[N*2:N*3,1],alpha=0.3,label='Inclinado Derecha',c='black')\n",
        "#plt.scatter(caracteristicasM2[N*3:N*4,0],caracteristicasM1[N*3:N*4,1],alpha=0.3,label='Inclinado Adelante',c='Green')\n",
        "#plt.scatter(caracteristicasM2[N*4:N*5,0],caracteristicasM1[N*4:N*5,1],alpha=0.3,label='Inclinado Atras',c='purple')\n",
        "\n",
        "plt.xlabel(\"Promedio X \")\n",
        "plt.ylabel(\"Promedio Y\")\n",
        "plt.legend()\n"
      ],
      "metadata": {
        "colab": {
          "base_uri": "https://localhost:8080/",
          "height": 296
        },
        "id": "-ak14RNyWskf",
        "outputId": "d33f050a-bb6c-4a7b-94e5-746de360431d"
      },
      "execution_count": null,
      "outputs": [
        {
          "output_type": "execute_result",
          "data": {
            "text/plain": [
              "<matplotlib.legend.Legend at 0x7f90af656c90>"
            ]
          },
          "metadata": {},
          "execution_count": 188
        },
        {
          "output_type": "display_data",
          "data": {
            "image/png": "[encoded data removed]",
            "text/plain": [
              "<Figure size 432x288 with 1 Axes>"
            ]
          },
          "metadata": {
            "needs_background": "light"
          }
        }
      ]
    },
    {
      "cell_type": "code",
      "source": [
        "from operator import length_hint\n",
        "print(clases)\n",
        "print(np.shape(caracteristica1))\n",
        "print(np.shape(caracteristica2))\n",
        "print(np.shape(clases))"
      ],
      "metadata": {
        "colab": {
          "base_uri": "https://localhost:8080/"
        },
        "id": "-cYPrp1FX0RJ",
        "outputId": "d182be9e-e673-4009-d5bb-fa1f3095a30e"
      },
      "execution_count": null,
      "outputs": [
        {
          "output_type": "stream",
          "name": "stdout",
          "text": [
            "[0 0 0 0 0 0 0 0 0 0 0 0 0 0 0 0 0 0 0 0 0 0 0 0 0 0 0 0 0 0 0 0 0 0 0 0 0\n",
            " 0 0 0 0 0 0 0 0 0 0 0 0 0 0 0 0 0 0 1 1 1 1 1 1 1 1 1 1 1 1 1 1 1 1 1 1 1\n",
            " 1 1 1 1 1 1 1 1 1 1 1 1 1 1 1 1 1 1 1 1 1 1 1 1 1 1 1 1 1 1 1 1 1 1 1 1 2\n",
            " 2 2 2 2 2 2 2 2 2 2 2 2 2 2 2 2 2 2 2 2 2 2 2 2 2 2 2 2 2 2 2 2 2 2 2 2 2\n",
            " 2 2 2 2 2 2 2 2 2 2 2 2 2 2 2 2 2 3 3 3 3 3 3 3 3 3 3 3 3 3 3 3 3 3 3 3 3\n",
            " 3 3 3 3 3 3 3 3 3 3 3 3 3 3 3 3 3 3 3 3 3 3 3 3 3 3 3 3 3 3 3 3 3 3 3 4 4\n",
            " 4 4 4 4 4 4 4 4 4 4 4 4 4 4 4 4 4 4 4 4 4 4 4 4 4 4 4 4 4 4 4 4 4 4 4 4 4\n",
            " 4 4 4 4 4 4 4 4 4 4 4 4 4 4 4 4]\n",
            "(275,)\n",
            "(275,)\n",
            "(275,)\n"
          ]
        }
      ]
    },
    {
      "cell_type": "code",
      "source": [
        "# Creación del DataFrame\n",
        "import pandas as pd\n",
        "\n",
        "datos={'Promedio X': caracteristica1,\n",
        "       'Promedio Y': caracteristica2,\n",
        "       'Estado':clases}\n",
        "\n",
        "datosDF=pd.DataFrame(datos)\n",
        "print(datosDF)"
      ],
      "metadata": {
        "colab": {
          "base_uri": "https://localhost:8080/"
        },
        "id": "A5OWYjBga-Xu",
        "outputId": "60f9df11-b220-411d-8221-6b96009e8749"
      },
      "execution_count": null,
      "outputs": [
        {
          "output_type": "stream",
          "name": "stdout",
          "text": [
            "     Promedio X  Promedio Y  Estado\n",
            "0        0.0078      0.0736       0\n",
            "1        0.0305      0.0305       0\n",
            "2        0.0436     -0.0134       0\n",
            "3        0.0454     -0.0125       0\n",
            "4        0.0399      0.0003       0\n",
            "..          ...         ...     ...\n",
            "270     -0.8394      0.0545       4\n",
            "271     -0.0486      0.0675       4\n",
            "272     -0.0657      0.0445       4\n",
            "273     -0.0337      0.0423       4\n",
            "274     -0.0169      0.0526       4\n",
            "\n",
            "[275 rows x 3 columns]\n"
          ]
        }
      ]
    },
    {
      "cell_type": "code",
      "source": [
        "datosDF.to_excel(\"caracteristicas.xlsx\")"
      ],
      "metadata": {
        "id": "aAhGzhbIbEB4"
      },
      "execution_count": null,
      "outputs": []
    }
  ]
}